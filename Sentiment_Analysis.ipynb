{
  "nbformat": 4,
  "nbformat_minor": 0,
  "metadata": {
    "colab": {
      "provenance": [],
      "authorship_tag": "ABX9TyN8h/16EzFu3SSW2+15SZoM"
    },
    "kernelspec": {
      "name": "python3",
      "display_name": "Python 3"
    },
    "language_info": {
      "name": "python"
    }
  },
  "cells": [
    {
      "cell_type": "code",
      "execution_count": null,
      "metadata": {
        "collapsed": true,
        "id": "r7KaONcdm-OP"
      },
      "outputs": [],
      "source": [
        "from google.colab import files\n",
        "uploaded = files.upload()"
      ]
    },
    {
      "cell_type": "code",
      "source": [
        "!pip install vaderSentiment\n",
        "\n",
        "import pandas as pd\n",
        "from vaderSentiment.vaderSentiment import SentimentIntensityAnalyzer\n",
        "\n",
        "# Load your uploaded CSV\n",
        "df = pd.read_csv(\"youtube_helene_comments.csv\")\n",
        "\n",
        "# Fill NaNs in the relevant column\n",
        "df['text'].fillna('', inplace=True)\n",
        "\n",
        "# Use only the 'text' column for analysis\n",
        "df[\"combined_text\"] = df[\"text\"]\n",
        "\n",
        "keywords = [\n",
        "    \"insurance\", \"claim\", \"claims\", \"damage\", \"economic loss\", \"flood\",\n",
        "    \"power outage\", \"state farm\", \"allstate\", \"duke energy\", \"adjuster\",\n",
        "    \"home damage\", \"roof\", \"loss\", \"coverage\", \"policy\", \"fema\", \"repair\"\n",
        "]\n",
        "\n",
        "def is_relevant(text):\n",
        "    text = text.lower()\n",
        "    return any(keyword in text for keyword in keywords)\n",
        "\n",
        "df[\"relevant\"] = df[\"combined_text\"].apply(is_relevant)\n",
        "df_relevant = df[df[\"relevant\"]].copy() # Use .copy() to avoid SettingWithCopyWarning\n",
        "\n",
        "\n",
        "analyzer = SentimentIntensityAnalyzer()\n",
        "\n",
        "def get_sentiment(text):\n",
        "    score = analyzer.polarity_scores(text)[\"compound\"]\n",
        "    if score >= 0.05:\n",
        "        return \"positive\"\n",
        "    elif score <= -0.05:\n",
        "        return \"negative\"\n",
        "    else:\n",
        "        return \"neutral\"\n",
        "\n",
        "df_relevant[\"sentiment\"] = df_relevant[\"combined_text\"].apply(get_sentiment)\n",
        "\n",
        "df_relevant.to_csv(\"youtube_sentiment_results.csv\", index=False)\n",
        "\n",
        "# Download the result\n",
        "from google.colab import files\n",
        "files.download(\"youtube_sentiment_results.csv\")"
      ],
      "metadata": {
        "id": "zeRaESjOoeGr"
      },
      "execution_count": null,
      "outputs": []
    }
  ]
}