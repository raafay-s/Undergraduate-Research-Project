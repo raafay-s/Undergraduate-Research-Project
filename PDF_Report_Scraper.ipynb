{
  "nbformat": 4,
  "nbformat_minor": 0,
  "metadata": {
    "colab": {
      "provenance": [],
      "authorship_tag": "ABX9TyOz5ehOl1QgKx0uKU89V5Mw"
    },
    "kernelspec": {
      "name": "python3",
      "display_name": "Python 3"
    },
    "language_info": {
      "name": "python"
    }
  },
  "cells": [
    {
      "cell_type": "code",
      "source": [
        "# Install pdfplumber library to extract text from PDFs\n",
        "!pip install pdfplumber\n",
        "\n",
        "# Import necessary libraries\n",
        "import pdfplumber\n",
        "import pandas as pd\n",
        "import os\n",
        "import re\n",
        "from google.colab import files  # For file download (works in Google Colab)\n",
        "\n",
        "# List of keywords related to economic topics (e.g., damage, investment, housing)\n",
        "keywords = [\n",
        "    \"economic\", \"loss\", \"damage\", \"impact\", \"investment\", \"unmet\", \"cost\", \"expenditure\",\n",
        "    \"estimate\", \"revenue\", \"budget\", \"expenses\", \"repair\", \"relief\", \"insurance\",\n",
        "    \"business\", \"property\", \"crop\", \"recovery\", \"housing\", \"infrastructure\", \"funding\"\n",
        "]\n",
        "\n",
        "# Compile a regular expression to match dollar amounts (e.g., \"$1 million\" or \"$500,000\")\n",
        "dollar_regex = re.compile(r'\\$\\s?\\d[\\d,]*(\\.\\d+)?\\s?(billion|million)?', re.IGNORECASE)\n",
        "\n",
        "# Initialize an empty list to store the relevant paragraphs found\n",
        "relevant_data = []\n",
        "\n",
        "# Loop through all PDFs in the current directory\n",
        "for filename in os.listdir():\n",
        "    # Check if the file is a PDF\n",
        "    if filename.endswith(\".pdf\"):\n",
        "        with pdfplumber.open(filename) as pdf:\n",
        "            # Loop through each page of the PDF\n",
        "            for page in pdf.pages:\n",
        "                text = page.extract_text()\n",
        "                if not text:\n",
        "                    continue\n",
        "\n",
        "                # Split the extracted text into paragraphs using two or more newlines\n",
        "                paragraphs = re.split(r'\\n{2,}', text)\n",
        "\n",
        "                # Loop through each paragraph to check for keywords or dollar amounts\n",
        "                for para in paragraphs:\n",
        "                    # Clean up the paragraph by stripping extra spaces and replacing line breaks with spaces\n",
        "                    para_clean = para.strip().replace(\"\\n\", \" \")\n",
        "\n",
        "                    # Check if any keyword is present in the paragraph (case-insensitive)\n",
        "                    keyword_found = any(k in para_clean.lower() for k in keywords)\n",
        "                    # Check if a dollar amount is present in the paragraph\n",
        "                    dollar_found = bool(dollar_regex.search(para_clean))\n",
        "\n",
        "                    # If a keyword or dollar amount is found, add the paragraph to the relevant data list\n",
        "                    if keyword_found or dollar_found:\n",
        "                        relevant_data.append({\n",
        "                            \"filename\": filename,  # Store the filename for reference\n",
        "                            \"paragraph\": para_clean  # Store the cleaned paragraph text\n",
        "                        })\n",
        "\n",
        "# Convert the list of relevant paragraphs into a DataFrame for easier handling\n",
        "df = pd.DataFrame(relevant_data)\n",
        "\n",
        "# Define the CSV filename to save the results\n",
        "csv_filename = \"relevant_paragraphs.csv\"\n",
        "\n",
        "# Save the DataFrame as a CSV file\n",
        "df.to_csv(csv_filename, index=False)\n",
        "\n",
        "# Download the CSV file\n",
        "files.download(csv_filename)"
      ],
      "metadata": {
        "id": "3JDfghkAGKrn"
      },
      "execution_count": null,
      "outputs": []
    }
  ]
}
