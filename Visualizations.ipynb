{
  "nbformat": 4,
  "nbformat_minor": 0,
  "metadata": {
    "colab": {
      "provenance": [],
      "authorship_tag": "ABX9TyPytn7I/uCB5fElknlLRuOa"
    },
    "kernelspec": {
      "name": "python3",
      "display_name": "Python 3"
    },
    "language_info": {
      "name": "python"
    }
  },
  "cells": [
    {
      "cell_type": "code",
      "execution_count": null,
      "metadata": {
        "id": "e0_jMt1lXNk4"
      },
      "outputs": [],
      "source": [
        "from google.colab import files\n",
        "uploaded = files.upload()\n",
        "\n",
        "# Install wordcloud if needed\n",
        "!pip install wordcloud\n",
        "\n",
        "import pandas as pd\n",
        "import matplotlib.pyplot as plt\n",
        "from collections import Counter\n",
        "from wordcloud import WordCloud\n",
        "\n",
        "# Load the CSV (adjust filename if needed)\n",
        "df = pd.read_csv(\"youtube_sentiment_results.csv\")\n",
        "\n",
        "# Just in case — fill blanks\n",
        "df.fillna('', inplace=True)\n",
        "\n",
        "# 1. Bar Chart: Sentiment Distribution\n",
        "sentiment_counts = df['sentiment'].value_counts()\n",
        "\n",
        "plt.figure(figsize=(6,4))\n",
        "sentiment_counts.plot(kind='bar', color=['green', 'gray', 'red'])\n",
        "plt.title('Public Sentiment Toward Hurricane Helene Aftermath')\n",
        "plt.xlabel('Sentiment')\n",
        "plt.ylabel('Number of Comments')\n",
        "plt.xticks(rotation=0)\n",
        "plt.grid(axis='y')\n",
        "plt.tight_layout()\n",
        "plt.show()\n",
        "\n",
        "# 2. Bar Chart: Keyword Frequency\n",
        "keywords = [\n",
        "    \"insurance\", \"claim\", \"claims\", \"damage\", \"economic loss\", \"flood\",\n",
        "    \"power outage\", \"state farm\", \"allstate\", \"duke energy\", \"adjuster\",\n",
        "    \"home damage\", \"roof\", \"loss\", \"coverage\", \"policy\", \"fema\", \"repair\"\n",
        "]\n",
        "\n",
        "keyword_counts = Counter()\n",
        "for comment in df[\"combined_text\"]:\n",
        "    for keyword in keywords:\n",
        "        if keyword in comment.lower():\n",
        "            keyword_counts[keyword] += 1\n",
        "\n",
        "keyword_df = pd.DataFrame(keyword_counts.items(), columns=[\"Keyword\", \"Count\"]).sort_values(\"Count\", ascending=False)\n",
        "\n",
        "plt.figure(figsize=(10,5))\n",
        "keyword_df.plot(x='Keyword', y='Count', kind='bar', legend=False, color='skyblue')\n",
        "plt.title(\"Most Mentioned Topics in Relevant Comments\")\n",
        "plt.ylabel(\"Mentions\")\n",
        "plt.xticks(rotation=45)\n",
        "plt.grid(axis='y')\n",
        "plt.tight_layout()\n",
        "plt.show()\n",
        "\n",
        "# 3. Word Cloud: Relevant Comments\n",
        "text = \" \".join(df[\"combined_text\"])\n",
        "\n",
        "wordcloud = WordCloud(width=800, height=400, background_color='white').generate(text)\n",
        "\n",
        "plt.figure(figsize=(10, 5))\n",
        "plt.imshow(wordcloud, interpolation='bilinear')\n",
        "plt.axis(\"off\")\n",
        "plt.title(\"Word Cloud of Relevant Comments\")\n",
        "plt.show()"
      ]
    }
  ]
}
